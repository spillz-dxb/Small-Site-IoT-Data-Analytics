{
 "cells": [
  {
   "cell_type": "markdown",
   "metadata": {},
   "source": [
    "# Install packages using pip"
   ]
  },
  {
   "cell_type": "code",
   "execution_count": null,
   "metadata": {},
   "outputs": [],
   "source": [
    "# Install a pip package in the current Jupyter kernel\n",
    "# import sys\n",
    "# !{sys.executable} -m pip install hszinc\n",
    "# !{sys.executable} -m pip install pyhaystack\n",
    "# !{sys.executable} -m pip install pandas\n",
    "# !{sys.executable} -m pip install matplotlib\n",
    "# !{sys.executable} -m pip install requests"
   ]
  },
  {
   "cell_type": "markdown",
   "metadata": {},
   "source": [
    "# Import modules and start session"
   ]
  },
  {
   "cell_type": "code",
   "execution_count": 3,
   "metadata": {},
   "outputs": [],
   "source": [
    "import hszinc\n",
    "import pyhaystack\n",
    "from pyhaystack.client.niagara import Niagara4HaystackSession\n",
    "from pyhaystack.util import filterbuilder as fb\n",
    "import pandas as pd\n",
    "import matplotlib.pyplot as plt\n",
    "import math\n",
    "from datetime import date, datetime, timedelta\n",
    "import requests\n",
    "import json\n",
    "\n",
    "# Configure pandas options\n",
    "pd.set_option('display.height', 1000)\n",
    "pd.set_option('display.max_rows', 500)\n",
    "pd.set_option('display.max_columns', 500)\n",
    "pd.set_option('display.width', 1000)\n",
    "\n",
    "uri = 'http://192.168.1.24'\n",
    "username = ''\n",
    "password = ''\n",
    "\n",
    "# uri = 'http://175.45.115.115'\n",
    "# username = 'admin1'\n",
    "# password = 'Enviroman1'\n",
    "\n",
    "# uri = 'http://120.151.12.65'\n",
    "# username = 'dhara'\n",
    "# password = 'Kakkad123'\n",
    "\n",
    "session = Niagara4HaystackSession(uri=uri, username=username, password=password, pint=True)"
   ]
  },
  {
   "cell_type": "markdown",
   "metadata": {},
   "source": [
    "# Examples"
   ]
  },
  {
   "cell_type": "markdown",
   "metadata": {},
   "source": [
    "## About\n",
    "session.about() queries basic information about the server."
   ]
  },
  {
   "cell_type": "code",
   "execution_count": 4,
   "metadata": {},
   "outputs": [
    {
     "ename": "KeyboardInterrupt",
     "evalue": "",
     "output_type": "error",
     "traceback": [
      "\u001b[0;31m---------------------------------------------------------------------------\u001b[0m",
      "\u001b[0;31mKeyboardInterrupt\u001b[0m                         Traceback (most recent call last)",
      "\u001b[0;32m<ipython-input-4-5f71aeb83082>\u001b[0m in \u001b[0;36m<module>\u001b[0;34m()\u001b[0m\n\u001b[1;32m      1\u001b[0m \u001b[0mop\u001b[0m \u001b[0;34m=\u001b[0m \u001b[0msession\u001b[0m\u001b[0;34m.\u001b[0m\u001b[0mabout\u001b[0m\u001b[0;34m(\u001b[0m\u001b[0;34m)\u001b[0m\u001b[0;34m\u001b[0m\u001b[0m\n\u001b[0;32m----> 2\u001b[0;31m \u001b[0mop\u001b[0m\u001b[0;34m.\u001b[0m\u001b[0mwait\u001b[0m\u001b[0;34m(\u001b[0m\u001b[0;34m)\u001b[0m\u001b[0;34m\u001b[0m\u001b[0m\n\u001b[0m\u001b[1;32m      3\u001b[0m \u001b[0mabout\u001b[0m \u001b[0;34m=\u001b[0m \u001b[0mop\u001b[0m\u001b[0;34m.\u001b[0m\u001b[0mresult\u001b[0m\u001b[0;34m\u001b[0m\u001b[0m\n\u001b[1;32m      4\u001b[0m \u001b[0;34m\u001b[0m\u001b[0m\n\u001b[1;32m      5\u001b[0m \u001b[0mprint\u001b[0m\u001b[0;34m(\u001b[0m\u001b[0mabout\u001b[0m\u001b[0;34m)\u001b[0m\u001b[0;34m\u001b[0m\u001b[0m\n",
      "\u001b[0;32m~/anaconda3/lib/python3.6/site-packages/pyhaystack/util/state.py\u001b[0m in \u001b[0;36mwait\u001b[0;34m(self, timeout)\u001b[0m\n\u001b[1;32m     62\u001b[0m         \u001b[0mdeadlock\u001b[0m\u001b[0;34m.\u001b[0m\u001b[0;34m\u001b[0m\u001b[0m\n\u001b[1;32m     63\u001b[0m         \"\"\"\n\u001b[0;32m---> 64\u001b[0;31m         \u001b[0mself\u001b[0m\u001b[0;34m.\u001b[0m\u001b[0m_done_evt\u001b[0m\u001b[0;34m.\u001b[0m\u001b[0mwait\u001b[0m\u001b[0;34m(\u001b[0m\u001b[0mtimeout\u001b[0m\u001b[0;34m)\u001b[0m\u001b[0;34m\u001b[0m\u001b[0m\n\u001b[0m\u001b[1;32m     65\u001b[0m \u001b[0;34m\u001b[0m\u001b[0m\n\u001b[1;32m     66\u001b[0m     \u001b[0;34m@\u001b[0m\u001b[0mproperty\u001b[0m\u001b[0;34m\u001b[0m\u001b[0m\n",
      "\u001b[0;32m~/anaconda3/lib/python3.6/threading.py\u001b[0m in \u001b[0;36mwait\u001b[0;34m(self, timeout)\u001b[0m\n\u001b[1;32m    549\u001b[0m             \u001b[0msignaled\u001b[0m \u001b[0;34m=\u001b[0m \u001b[0mself\u001b[0m\u001b[0;34m.\u001b[0m\u001b[0m_flag\u001b[0m\u001b[0;34m\u001b[0m\u001b[0m\n\u001b[1;32m    550\u001b[0m             \u001b[0;32mif\u001b[0m \u001b[0;32mnot\u001b[0m \u001b[0msignaled\u001b[0m\u001b[0;34m:\u001b[0m\u001b[0;34m\u001b[0m\u001b[0m\n\u001b[0;32m--> 551\u001b[0;31m                 \u001b[0msignaled\u001b[0m \u001b[0;34m=\u001b[0m \u001b[0mself\u001b[0m\u001b[0;34m.\u001b[0m\u001b[0m_cond\u001b[0m\u001b[0;34m.\u001b[0m\u001b[0mwait\u001b[0m\u001b[0;34m(\u001b[0m\u001b[0mtimeout\u001b[0m\u001b[0;34m)\u001b[0m\u001b[0;34m\u001b[0m\u001b[0m\n\u001b[0m\u001b[1;32m    552\u001b[0m             \u001b[0;32mreturn\u001b[0m \u001b[0msignaled\u001b[0m\u001b[0;34m\u001b[0m\u001b[0m\n\u001b[1;32m    553\u001b[0m \u001b[0;34m\u001b[0m\u001b[0m\n",
      "\u001b[0;32m~/anaconda3/lib/python3.6/threading.py\u001b[0m in \u001b[0;36mwait\u001b[0;34m(self, timeout)\u001b[0m\n\u001b[1;32m    293\u001b[0m         \u001b[0;32mtry\u001b[0m\u001b[0;34m:\u001b[0m    \u001b[0;31m# restore state no matter what (e.g., KeyboardInterrupt)\u001b[0m\u001b[0;34m\u001b[0m\u001b[0m\n\u001b[1;32m    294\u001b[0m             \u001b[0;32mif\u001b[0m \u001b[0mtimeout\u001b[0m \u001b[0;32mis\u001b[0m \u001b[0;32mNone\u001b[0m\u001b[0;34m:\u001b[0m\u001b[0;34m\u001b[0m\u001b[0m\n\u001b[0;32m--> 295\u001b[0;31m                 \u001b[0mwaiter\u001b[0m\u001b[0;34m.\u001b[0m\u001b[0macquire\u001b[0m\u001b[0;34m(\u001b[0m\u001b[0;34m)\u001b[0m\u001b[0;34m\u001b[0m\u001b[0m\n\u001b[0m\u001b[1;32m    296\u001b[0m                 \u001b[0mgotit\u001b[0m \u001b[0;34m=\u001b[0m \u001b[0;32mTrue\u001b[0m\u001b[0;34m\u001b[0m\u001b[0m\n\u001b[1;32m    297\u001b[0m             \u001b[0;32melse\u001b[0m\u001b[0;34m:\u001b[0m\u001b[0;34m\u001b[0m\u001b[0m\n",
      "\u001b[0;31mKeyboardInterrupt\u001b[0m: "
     ]
    }
   ],
   "source": [
    "op = session.about()\n",
    "op.wait()\n",
    "about = op.result\n",
    "\n",
    "print(about)"
   ]
  },
  {
   "cell_type": "markdown",
   "metadata": {},
   "source": [
    "## Navigation\n",
    "session.nav() lets you navigate the structure of the Project Haystack server."
   ]
  },
  {
   "cell_type": "code",
   "execution_count": null,
   "metadata": {},
   "outputs": [],
   "source": [
    "nav_id = ''\n",
    "# nav_id = 'his:/'\n",
    "# nav_id = 'his:/Bourke_Rd_170'\n",
    "\n",
    "if nav_id:\n",
    "    op = session.nav(nav_id=nav_id)\n",
    "    op.wait()\n",
    "    nav = op.result\n",
    "else:\n",
    "    op = session.nav()\n",
    "    op.wait()\n",
    "    nav = op.result\n",
    "\n",
    "print(nav)"
   ]
  },
  {
   "cell_type": "markdown",
   "metadata": {},
   "source": [
    "## Find Entity\n",
    "find_entity expects a filter expression, and performs a read specifying the given string as the filter argument\n",
    "\n",
    "Parameters: <br/>\n",
    "`filter_expr` – The filter expression to search for. <br/>\n",
    "`limit` – Optional limit to number of entities retrieved. <br/>\n",
    "`single` – Are we expecting a single entity? Defaults to True if ids is not a list. <br/>\n",
    "`callback` – Asynchronous result callback."
   ]
  },
  {
   "cell_type": "code",
   "execution_count": null,
   "metadata": {},
   "outputs": [],
   "source": [
    "filter_expr = 'site'\n",
    "limit = 5\n",
    "    \n",
    "op = session.find_entity(filter_expr=filter_expr, limit=limit)\n",
    "op.wait()\n",
    "result = op.result\n",
    "\n",
    "print(result)"
   ]
  },
  {
   "cell_type": "markdown",
   "metadata": {},
   "source": [
    "## Prints the site name and the tags & values for that site"
   ]
  },
  {
   "cell_type": "code",
   "execution_count": null,
   "metadata": {},
   "outputs": [],
   "source": [
    "filter_expr = 'site'\n",
    "limit = 5\n",
    "\n",
    "op = session.find_entity(filter_expr=filter_expr, limit=limit)\n",
    "op.wait()\n",
    "result = op.result\n",
    "\n",
    "for site in result.keys():\n",
    "    print(site + \":\")\n",
    "    el = result[site]\n",
    "    for tag in el.tags:\n",
    "        print(\"\\t\" + tag + \": \" + str(el.tags[tag]))\n",
    "    print(\"\\n\")"
   ]
  },
  {
   "cell_type": "markdown",
   "metadata": {},
   "source": [
    "## Prints the point name and the tags & values within that point"
   ]
  },
  {
   "cell_type": "code",
   "execution_count": null,
   "metadata": {},
   "outputs": [],
   "source": [
    "filter_expr = 'point'\n",
    "limit = 100\n",
    "\n",
    "op = session.find_entity(filter_expr=filter_expr, limit=limit)\n",
    "op.wait()\n",
    "result = op.result\n",
    "\n",
    "for point in result.keys():\n",
    "    print(point + \":\")\n",
    "    el = result[point]\n",
    "    for tag in el.tags:\n",
    "        print(\"\\t\" + tag + \": \" + str(el.tags[tag]))\n",
    "    print(\"\\n\")"
   ]
  },
  {
   "cell_type": "markdown",
   "metadata": {},
   "source": [
    "## Filter for 'his' and 'point'\n",
    "Uses a filter expression to read all the points that have a 'his' tag. <br/>"
   ]
  },
  {
   "cell_type": "code",
   "execution_count": null,
   "metadata": {
    "scrolled": true
   },
   "outputs": [],
   "source": [
    "filter_expr = 'point'\n",
    "limit = 10000\n",
    "\n",
    "op = session.find_entity(filter_expr=filter_expr, limit=limit)\n",
    "op.wait()\n",
    "result = op.result\n",
    "\n",
    "for key in result.keys():\n",
    "    print(key)"
   ]
  },
  {
   "cell_type": "markdown",
   "metadata": {},
   "source": [
    "## Reads Historical Data into a Series\n",
    "### Reads the historical data of the given point and returns it as a series.\n",
    "\n",
    "Parameters: <br/>\n",
    "`point` – Haystack ‘point’ entity to read the data from <br/>\n",
    "`rng` – Historical read range for the ‘point’ <br/>\n",
    "`tz` – Optional timezone to translate timestamps to <br/>\n",
    "`series_format` – Optional desired format for the series <br/>"
   ]
  },
  {
   "cell_type": "code",
   "execution_count": null,
   "metadata": {},
   "outputs": [],
   "source": [
    "point = 'S.SCP.FLOOR_1_AC_4.Zone_Temp'\n",
    "# rng = 'today'\n",
    "rng = 'yesterday'\n",
    "# rng = '2018-01-01'\n",
    "# rng = '2018-01-01, 2018-01-07'\n",
    "tz = None\n",
    "series_format = None\n",
    "\n",
    "op = session.his_read_series(point, rng, tz=tz, series_format=series_format)\n",
    "op.wait()\n",
    "result = op.result\n",
    "\n",
    "print(result.head())\n",
    "print(result.tail())"
   ]
  },
  {
   "cell_type": "markdown",
   "metadata": {},
   "source": [
    "## Reads Historical Data into a Grid\n",
    "### Reads the historical data of the given point and returns it as a hszinc.grid.Grid.\n",
    "\n",
    "Parameters: <br />\n",
    "`point` – Haystack ‘point’ entity or ID to read the data from <br />\n",
    "`rng` – Historical read range for the ‘point’"
   ]
  },
  {
   "cell_type": "code",
   "execution_count": null,
   "metadata": {},
   "outputs": [],
   "source": [
    "point = 'S.SCP.FLOOR_1_AC_4.Zone_Temp'\n",
    "rng = 'today'\n",
    "\n",
    "op = session.his_read(point, rng)\n",
    "op.wait()\n",
    "result = op.result\n",
    "\n",
    "print(result)"
   ]
  },
  {
   "cell_type": "markdown",
   "metadata": {},
   "source": [
    "## Reads Historical Data into a Dataframe\n",
    "### Reads the historical data of multiple given points and returns them as a dataframe.\n",
    "\n",
    "Parameters: <br/>\n",
    "`columns` – A list of Haystack ‘point’ instances or a dict mapping the column label to the Haystack ‘point’ instance. <br/>\n",
    "`rng` – Historical read range for the ‘point’ <br/>\n",
    "`tz` – Optional timezone to translate timestamps to <br/>\n",
    "`frame_format` – Optional desired format for the data frame"
   ]
  },
  {
   "cell_type": "code",
   "execution_count": null,
   "metadata": {
    "scrolled": true
   },
   "outputs": [],
   "source": [
    "filter_expr = 'point and his'\n",
    "limit = 10\n",
    "\n",
    "columns = []\n",
    "rng = 'today'\n",
    "tz = None\n",
    "frame_format = None\n",
    "\n",
    "# Reads 10 points to view the history of\n",
    "op = session.find_entity(filter_expr=filter_expr, limit=limit)\n",
    "op.wait()\n",
    "columns = op.result\n",
    "\n",
    "### NOTE: Some of the points return the errror 'java.lang.ArrayIndexOutOfBoundsException: 0' causing this\n",
    "### cell to fail, comment out the code below to test with working points \n",
    "\n",
    "columns = [ 'S.SCP.FLOOR_1_AC_4.Fan_Enable',  \n",
    "            'S.SCP.FLOOR_1_AC_4.Zone_Temp']\n",
    "               \n",
    "# Reads the history of the points in columns into a dataframe\n",
    "op = session.his_read_frame(columns, rng=rng, tz=tz, frame_format=frame_format)\n",
    "op.wait()\n",
    "result = op.result\n",
    "\n",
    "print(result)"
   ]
  },
  {
   "cell_type": "markdown",
   "metadata": {},
   "source": [
    "# Testing"
   ]
  },
  {
   "cell_type": "code",
   "execution_count": 33,
   "metadata": {
    "scrolled": true
   },
   "outputs": [],
   "source": [
    "filter_expr = 'temp'\n",
    "limit = 1000000\n",
    "\n",
    "op = session.find_entity(filter_expr, limit=limit)\n",
    "op.wait()\n",
    "result = op.result\n",
    "\n",
    "for point in result.keys():\n",
    "    print(point + \":\")\n",
    "    el = result[point]\n",
    "    for tag in el.tags:\n",
    "        print(\"\\t\" + tag + \": \" + str(el.tags[tag]))\n",
    "    print(\"\\n\")"
   ]
  },
  {
   "cell_type": "code",
   "execution_count": null,
   "metadata": {
    "scrolled": true
   },
   "outputs": [],
   "source": [
    "point = 'C.Drivers.NiagaraNetwork.JACE.points.AC_Units.Tenant_Fitout.Ground_Floor.FCU_FO_G_01.Room_Temp'\n",
    "\n",
    "rng = 'today'\n",
    "# rng = 'yesterday'\n",
    "# rng = '2018-01-01'\n",
    "# rng = '2018-01-01, 2018-01-07'\n",
    "\n",
    "tz = None\n",
    "series_format = None\n",
    "\n",
    "op = session.his_read_series(point, rng, tz=tz, series_format=series_format)\n",
    "op.wait()\n",
    "result = op.result\n",
    "\n",
    "result"
   ]
  },
  {
   "cell_type": "code",
   "execution_count": null,
   "metadata": {
    "scrolled": true
   },
   "outputs": [],
   "source": [
    "filter_expr = 'point and his and equipRef'\n",
    "limit = 100\n",
    "\n",
    "op = session.find_entity(filter_expr=filter_expr, limit=limit)\n",
    "op.wait()\n",
    "result = op.result\n",
    "\n",
    "for point in result.keys():\n",
    "    print(point + \":\")\n",
    "    el = result[point]\n",
    "    for tag in el.tags:\n",
    "        print(\"\\t\" + tag + \": \" + str(el.tags[tag]))\n",
    "    print(\"\\n\")"
   ]
  },
  {
   "cell_type": "code",
   "execution_count": null,
   "metadata": {},
   "outputs": [],
   "source": [
    "filter_expr = 'his and zone and temp'\n",
    "limit = 100\n",
    "\n",
    "op = session.find_entity(filter_expr=filter_expr, limit=limit)\n",
    "op.wait()\n",
    "result = op.result\n",
    "\n",
    "for key in result:\n",
    "    print(key)\n",
    "    \n",
    "# S.The_Bond_30.G_WCPAC_3.G_WCPAC_3_Zone_Temp_SP"
   ]
  },
  {
   "cell_type": "code",
   "execution_count": null,
   "metadata": {},
   "outputs": [],
   "source": [
    "filter_expr = 'point and his and equipRef'\n",
    "limit = 100\n",
    "\n",
    "op = session.find_entity(filter_expr=filter_expr, limit=limit)\n",
    "op.wait()\n",
    "result = op.result\n",
    "\n",
    "for key in result:\n",
    "    equipRef = result[key].tags['equipRef']\n",
    "    if(str(equipRef) == '@S.The_Bond_30.G_WCPAC_1'):\n",
    "        print(key)"
   ]
  },
  {
   "cell_type": "markdown",
   "metadata": {},
   "source": [
    "### Compare data from S.The_Bond_30.G_WCPAC_1"
   ]
  },
  {
   "cell_type": "code",
   "execution_count": null,
   "metadata": {},
   "outputs": [],
   "source": [
    "# Fetches the zone temp set point, the run status, and the return air temp for the specified date range. \n",
    "\n",
    "columns = [ 'S.The_Bond_30.G_WCPAC_1.G_WCPAC_1_Zone_Temp_SP',\n",
    "            'S.The_Bond_30.G_WCPAC_1.G_WCPAC_1_Run_St',\n",
    "            'S.The_Bond_30.G_WCPAC_1.G_WCPAC_1_RA_Temp']\n",
    "\n",
    "rng = '2018-02-01, 2018-02-07'\n",
    "\n",
    "op = session.his_read_frame(columns, rng)\n",
    "op.wait()\n",
    "result = op.result\n",
    "\n",
    "result.head()"
   ]
  },
  {
   "cell_type": "code",
   "execution_count": null,
   "metadata": {
    "scrolled": true
   },
   "outputs": [],
   "source": [
    "# The timestamps for each column don't match up so the data is re-sampled at 15 minute intervals.\n",
    "# the run status is a bool value that is only recorded when changed, therefore we must fill in the correct \n",
    "# value for each time stamp using the fillna method.\n",
    "\n",
    "resampledResult = result.resample('15T').agg({\n",
    "    'S.The_Bond_30.G_WCPAC_1.G_WCPAC_1_Zone_Temp_SP': 'mean',\n",
    "    'S.The_Bond_30.G_WCPAC_1.G_WCPAC_1_RA_Temp':'mean',\n",
    "    'S.The_Bond_30.G_WCPAC_1.G_WCPAC_1_Run_St':'last'\n",
    "})\n",
    "\n",
    "resampledResult['S.The_Bond_30.G_WCPAC_1.G_WCPAC_1_Run_St'].fillna(method='ffill', inplace=True)\n",
    "\n",
    "# Replaces the remaining NaNs with False, in this case this is correct \n",
    "resampledResult['S.The_Bond_30.G_WCPAC_1.G_WCPAC_1_Run_St'].fillna(False, inplace=True)\n",
    "\n",
    "# Alternatively, we could just drop the remaining NaNs\n",
    "# resampledResult.dropna(inplace=True)\n",
    "\n",
    "resampledResult.head()"
   ]
  },
  {
   "cell_type": "code",
   "execution_count": null,
   "metadata": {},
   "outputs": [],
   "source": [
    "# The re-sampled data is plotted on a graph.\n",
    "# The run status is converted to a int and the SP temp is added to it so we can see when it is on and off\n",
    "# compared to the other temps\n",
    "\n",
    "plotResults = resampledResult.copy()\n",
    "plotResults['S.The_Bond_30.G_WCPAC_1.G_WCPAC_1_Run_St'] = plotResults['S.The_Bond_30.G_WCPAC_1.G_WCPAC_1_Run_St'].astype(int) + plotResults['S.The_Bond_30.G_WCPAC_1.G_WCPAC_1_Zone_Temp_SP']\n",
    "plotResults.plot(figsize=(16, 8))"
   ]
  },
  {
   "cell_type": "markdown",
   "metadata": {},
   "source": [
    "### Compare data from S.The_Bond_30.G_WCPAC_3 and historical weather data"
   ]
  },
  {
   "cell_type": "code",
   "execution_count": null,
   "metadata": {},
   "outputs": [],
   "source": [
    "# Fetches the zone temp set point, the supply air temp, and the return air temp for the specified date range. \n",
    "\n",
    "columns = [ 'S.The_Bond_30.G_WCPAC_3.G_WCPAC_3_Zone_Temp_SP',\n",
    "            'S.The_Bond_30.G_WCPAC_3.G_WCPAC_3_SA_Temp',\n",
    "            'S.The_Bond_30.G_WCPAC_3.G_WCPAC_3_RA_Temp']\n",
    "\n",
    "rng = '2018-01-27, 2018-02-10'\n",
    "\n",
    "op = session.his_read_frame(columns, rng)\n",
    "op.wait()\n",
    "result = op.result\n",
    "\n",
    "result.head()"
   ]
  },
  {
   "cell_type": "code",
   "execution_count": null,
   "metadata": {},
   "outputs": [],
   "source": [
    "# The timestamps for each column don't match up so the data is re-sampled at 15 minute intervals.\n",
    "\n",
    "resampledResult = result.resample('15T').mean()\n",
    "resampledResult.head()"
   ]
  },
  {
   "cell_type": "code",
   "execution_count": null,
   "metadata": {},
   "outputs": [],
   "source": [
    "# Initial plot of the temps for the specified date range\n",
    "\n",
    "resampledResult.plot(figsize=(16, 8))"
   ]
  },
  {
   "cell_type": "code",
   "execution_count": null,
   "metadata": {},
   "outputs": [],
   "source": [
    "# Using the Dark Sky API we can retrieve historical weather data for the site.\n",
    "# We construct a url from the latitude and longitude of the site and the specified date ranges.\n",
    "\n",
    "def daterange(start_date, end_date):\n",
    "    for n in range(int ((end_date - start_date).days)):\n",
    "        yield start_date + timedelta(n)\n",
    "        \n",
    "lat = -33.8618\n",
    "lon = 151.2031\n",
    "api_key = '801e57289de2da50cf9e496e4c823e6c'\n",
    "\n",
    "start_date = datetime(2018,1,27,0,0)\n",
    "end_date = datetime(2018,2,10,0,0)\n",
    "\n",
    "weatherData = pd.DataFrame()\n",
    "\n",
    "# For the given dates we loop through each day and make an API request to retrieve the historical weather data\n",
    "# for that day. Each days data is appended to the weatherData dataframe. \n",
    "for single_date in daterange(start_date, end_date):\n",
    "    time = int(single_date.timestamp())\n",
    "    url = 'https://api.darksky.net/forecast/' + api_key + '/' + str(lat) + ',' + str(lon) + ',' + str(time) + '?units=si'\n",
    "    r = requests.get(url)\n",
    "    json = r.json()\n",
    "    weatherData = weatherData.append(pd.DataFrame(json['hourly']['data']), ignore_index=True)\n",
    "\n",
    "weatherData.head()"
   ]
  },
  {
   "cell_type": "code",
   "execution_count": null,
   "metadata": {},
   "outputs": [],
   "source": [
    "# The time column is converted from unix time to a datatime object.\n",
    "\n",
    "weatherData['time'] = pd.to_datetime(weatherData['time'], unit='s', utc=True)"
   ]
  },
  {
   "cell_type": "code",
   "execution_count": null,
   "metadata": {
    "scrolled": true
   },
   "outputs": [],
   "source": [
    "# Discard other columns leaving the time and temperature columns and set the index as the timestamp.\n",
    "# Upsample the weather data from every hour to every 15 minutes and interpolate the missing values.\n",
    "\n",
    "weatherData = weatherData[['time', 'temperature']]\n",
    "weatherData = weatherData.set_index('time')\n",
    "weatherData = weatherData.resample('15T').mean()\n",
    "weatherData = weatherData.interpolate(method='linear')\n",
    "weatherData.head()"
   ]
  },
  {
   "cell_type": "code",
   "execution_count": null,
   "metadata": {
    "scrolled": true
   },
   "outputs": [],
   "source": [
    "# Merge the data pulled from Niagara and the historical weather on the indexes (timestamps), convert\n",
    "# the timezone to Sydney, and rename the columns.\n",
    "\n",
    "final = resampledResult.merge(weatherData, left_index=True, right_index=True)\n",
    "final = final.tz_convert('Australia/Sydney')\n",
    "final.columns = ['SA_Temp', 'Zone_Temp_SP', 'RA_Temp', 'Hist_Weather']\n",
    "final.head()"
   ]
  },
  {
   "cell_type": "code",
   "execution_count": null,
   "metadata": {},
   "outputs": [],
   "source": [
    "# Plot the Niagara data against the historical weather data.\n",
    "\n",
    "final.plot(figsize=(16, 8))"
   ]
  },
  {
   "cell_type": "code",
   "execution_count": null,
   "metadata": {},
   "outputs": [],
   "source": []
  },
  {
   "cell_type": "code",
   "execution_count": null,
   "metadata": {},
   "outputs": [],
   "source": [
    "Oriordan_St_93_West\n",
    "FCU_L1WGA1_CHW_Valve\n",
    "FCU_L1WGA1_HW_Valve\n"
   ]
  },
  {
   "cell_type": "code",
   "execution_count": null,
   "metadata": {},
   "outputs": [],
   "source": [
    "filter_expr = 'his and point'\n",
    "limit = 1000\n",
    "\n",
    "op = session.find_entity(filter_expr=filter_expr, limit=limit)\n",
    "op.wait()\n",
    "result = op.result\n",
    "\n",
    "for key in result.keys():\n",
    "    print(key)"
   ]
  },
  {
   "cell_type": "code",
   "execution_count": null,
   "metadata": {},
   "outputs": [],
   "source": [
    "filter_expr = 'point'\n",
    "limit = 10000\n",
    "\n",
    "op = session.find_entity(filter_expr=filter_expr, limit=limit)\n",
    "op.wait()\n",
    "result = op.result\n",
    "\n",
    "for point in result.keys():\n",
    "    if point == \"H.Oriordan_St_93_West.FCU_L1WGA1_HW_Valve\":\n",
    "        print(point + \":\")\n",
    "        el = result[point]\n",
    "        for tag in el.tags:\n",
    "            print(\"\\t\" + tag + \": \" + str(el.tags[tag]))\n",
    "        print(\"\\n\")"
   ]
  },
  {
   "cell_type": "code",
   "execution_count": null,
   "metadata": {},
   "outputs": [],
   "source": [
    "point = 'C.Drivers.NiagaraNetwork.Oriordan_St_93_West.points.Level-1.FCU-WGA~2d5.Fan_Enable'\n",
    "rng = 'today'\n",
    "tz = None\n",
    "series_format = None\n",
    "\n",
    "# rng = '2018-01-01'\n",
    "rng = '2018-04-01, 2018-04-14'\n",
    "\n",
    "op = session.his_read_series(point, rng, tz=tz, series_format=series_format)\n",
    "op.wait()\n",
    "result = op.result\n",
    "\n",
    "result"
   ]
  },
  {
   "cell_type": "code",
   "execution_count": null,
   "metadata": {},
   "outputs": [],
   "source": [
    "result.count()"
   ]
  },
  {
   "cell_type": "code",
   "execution_count": null,
   "metadata": {},
   "outputs": [],
   "source": []
  }
 ],
 "metadata": {
  "kernelspec": {
   "display_name": "Python 3",
   "language": "python",
   "name": "python3"
  },
  "language_info": {
   "codemirror_mode": {
    "name": "ipython",
    "version": 3
   },
   "file_extension": ".py",
   "mimetype": "text/x-python",
   "name": "python",
   "nbconvert_exporter": "python",
   "pygments_lexer": "ipython3",
   "version": "3.6.4"
  }
 },
 "nbformat": 4,
 "nbformat_minor": 2
}
